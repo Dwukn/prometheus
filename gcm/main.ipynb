{
 "cells": [
  {
   "cell_type": "code",
   "execution_count": null,
   "metadata": {},
   "outputs": [],
   "source": [
    "import os\n",
    "import numpy as np\n",
    "import matplotlib.pyplot as plt\n",
    "from sklearn.metrics import roc_curve, roc_auc_score, classification_report\n",
    "from tensorflow.keras.preprocessing.image import ImageDataGenerator\n",
    "from neural_network import baseline_model, residual_model"
   ]
  },
  {
   "cell_type": "code",
   "execution_count": null,
   "metadata": {},
   "outputs": [],
   "source": [
    "train_data_dir = '/path/to/train/dataset'\n",
    "validation_data_dir = '/path/to/validation/dataset'\n",
    "\n",
    "train_datagen = ImageDataGenerator(\n",
    "    rescale=1./255,\n",
    "    rotation_range=40,\n",
    "    width_shift_range=0.2,\n",
    "    height_shift_range=0.2,\n",
    "    shear_range=0.2,\n",
    "    zoom_range=0.2,\n",
    "    horizontal_flip=True,\n",
    "    fill_mode='nearest')\n",
    "\n",
    "valid_datagen = ImageDataGenerator(rescale=1./255)\n",
    "\n",
    "train_generator = train_datagen.flow_from_directory(\n",
    "    train_data_dir,\n",
    "    target_size=(101, 101),\n",
    "    batch_size=32,\n",
    "    class_mode='binary')\n",
    "\n",
    "validation_generator = valid_datagen.flow_from_directory(\n",
    "    validation_data_dir,\n",
    "    target_size=(101, 101),\n",
    "    batch_size=32,\n",
    "    class_mode='binary')\n"
   ]
  },
  {
   "cell_type": "code",
   "execution_count": null,
   "metadata": {},
   "outputs": [],
   "source": [
    "# Function to identify input size of the dataset\n",
    "def identify_dataset_size(generator):\n",
    "    # Get the number of classes\n",
    "    num_classes = generator.num_classes\n",
    "\n",
    "    # Get the total number of images and the size of each image\n",
    "    total_images = len(generator.filenames)\n",
    "    image_shape = generator.image_shape\n",
    "\n",
    "    # Get the number of images per class\n",
    "    class_counts = {}\n",
    "    for class_label in generator.class_indices:\n",
    "        class_name = os.path.basename(class_label)\n",
    "        class_count = sum(1 for img in generator.filenames if img.startswith(class_label))\n",
    "        class_counts[class_name] = class_count\n",
    "\n",
    "    return num_classes, total_images, image_shape, class_counts\n",
    "\n",
    "# Identify input size of the dataset\n",
    "num_classes_train, total_images_train, image_shape_train, class_counts_train = identify_dataset_size(train_generator)\n",
    "num_classes_valid, total_images_valid, image_shape_valid, class_counts_valid = identify_dataset_size(validation_generator)\n",
    "\n",
    "print(\"Training Dataset:\")\n",
    "print(f\"Number of classes: {num_classes_train}\")\n",
    "print(f\"Total number of images: {total_images_train}\")\n",
    "print(f\"Image shape: {image_shape_train}\")\n",
    "print(\"Number of images per class:\")\n",
    "for class_name, count in class_counts_train.items():\n",
    "    print(f\"{class_name}: {count}\")\n",
    "\n",
    "print(\"\\nValidation Dataset:\")\n",
    "print(f\"Number of classes: {num_classes_valid}\")\n",
    "print(f\"Total number of images: {total_images_valid}\")\n",
    "print(f\"Image shape: {image_shape_valid}\")\n",
    "print(\"Number of images per class:\")\n",
    "for class_name, count in class_counts_valid.items():\n",
    "    print(f\"{class_name}: {count}\")\n"
   ]
  },
  {
   "cell_type": "code",
   "execution_count": null,
   "metadata": {},
   "outputs": [],
   "source": [
    "baseline_model.compile(optimizer='adam', loss='binary_crossentropy', metrics=['accuracy'])\n",
    "baseline_history = baseline_model.fit(train_generator, validation_data=validation_generator, epochs=10)\n"
   ]
  },
  {
   "cell_type": "code",
   "execution_count": null,
   "metadata": {},
   "outputs": [],
   "source": [
    "residual_model.compile(optimizer='adam', loss='binary_crossentropy', metrics=['accuracy'])\n",
    "residual_history = residual_model.fit(train_generator, validation_data=validation_generator, epochs=10)"
   ]
  },
  {
   "cell_type": "code",
   "execution_count": null,
   "metadata": {},
   "outputs": [],
   "source": [
    "# Calculate ROC and AUC for baseline model\n",
    "baseline_y_pred = baseline_model.predict(validation_generator)\n",
    "baseline_fpr, baseline_tpr, _ = roc_curve(validation_generator.classes, baseline_y_pred)\n",
    "baseline_auc = roc_auc_score(validation_generator.classes, baseline_y_pred)\n"
   ]
  },
  {
   "cell_type": "code",
   "execution_count": null,
   "metadata": {},
   "outputs": [],
   "source": [
    "# Calculate ROC and AUC for residual model\n",
    "residual_y_pred = residual_model.predict(validation_generator)\n",
    "residual_fpr, residual_tpr, _ = roc_curve(validation_generator.classes, residual_y_pred)\n",
    "residual_auc = roc_auc_score(validation_generator.classes, residual_y_pred)"
   ]
  },
  {
   "cell_type": "code",
   "execution_count": null,
   "metadata": {},
   "outputs": [],
   "source": [
    "# Get predictions and ground truth labels for classification report\n",
    "baseline_y_pred_classes = np.argmax(baseline_y_pred, axis=1)"
   ]
  },
  {
   "cell_type": "code",
   "execution_count": null,
   "metadata": {},
   "outputs": [],
   "source": [
    "residual_y_pred_classes = np.argmax(residual_y_pred, axis=1)"
   ]
  },
  {
   "cell_type": "code",
   "execution_count": null,
   "metadata": {},
   "outputs": [],
   "source": [
    "plt.figure(figsize=(8, 6))\n",
    "plt.plot(baseline_fpr, baseline_tpr, label=f'Baseline Model (AUC = {baseline_auc:.2f})')\n",
    "plt.plot(residual_fpr, residual_tpr, label=f'Residual Model (AUC = {residual_auc:.2f})')\n",
    "plt.plot([0, 1], [0, 1], 'k--')\n",
    "plt.xlabel('False Positive Rate')\n",
    "plt.ylabel('True Positive Rate')\n",
    "plt.title('ROC Curve')\n",
    "plt.legend()\n",
    "plt.show()\n"
   ]
  },
  {
   "cell_type": "code",
   "execution_count": null,
   "metadata": {},
   "outputs": [],
   "source": [
    "print(\"Baseline Model Classification Report:\")\n",
    "print(classification_report(validation_generator.classes, baseline_y_pred_classes))\n"
   ]
  },
  {
   "cell_type": "code",
   "execution_count": null,
   "metadata": {},
   "outputs": [],
   "source": [
    "print(\"Residual Model Classification Report:\")\n",
    "print(classification_report(validation_generator.classes, residual_y_pred_classes))"
   ]
  }
 ],
 "metadata": {
  "kernelspec": {
   "display_name": "Python 3",
   "language": "python",
   "name": "python3"
  },
  "language_info": {
   "codemirror_mode": {
    "name": "ipython",
    "version": 3
   },
   "file_extension": ".py",
   "mimetype": "text/x-python",
   "name": "python",
   "nbconvert_exporter": "python",
   "pygments_lexer": "ipython3",
   "version": "3.9.0"
  }
 },
 "nbformat": 4,
 "nbformat_minor": 2
}
